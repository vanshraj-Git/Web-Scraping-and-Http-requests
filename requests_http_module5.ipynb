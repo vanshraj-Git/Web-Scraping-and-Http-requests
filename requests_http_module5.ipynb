{
  "nbformat": 4,
  "nbformat_minor": 0,
  "metadata": {
    "colab": {
      "provenance": [],
      "authorship_tag": "ABX9TyNlFul1FOnpU1tletrZSP5H",
      "include_colab_link": true
    },
    "kernelspec": {
      "name": "python3",
      "display_name": "Python 3"
    },
    "language_info": {
      "name": "python"
    }
  },
  "cells": [
    {
      "cell_type": "markdown",
      "metadata": {
        "id": "view-in-github",
        "colab_type": "text"
      },
      "source": [
        "<a href=\"https://colab.research.google.com/github/vanshraj-Git/Web-Scraping-and-Http-requests/blob/main/requests_http_module5.ipynb\" target=\"_parent\"><img src=\"https://colab.research.google.com/assets/colab-badge.svg\" alt=\"Open In Colab\"/></a>"
      ]
    },
    {
      "cell_type": "code",
      "execution_count": null,
      "metadata": {
        "colab": {
          "base_uri": "https://localhost:8080/"
        },
        "id": "Y1f2CczafZfb",
        "outputId": "fa941f51-694f-41ee-a016-ca5f058d22de"
      },
      "outputs": [
        {
          "output_type": "stream",
          "name": "stdout",
          "text": [
            "200\n",
            "{'User-Agent': 'python-requests/2.32.3', 'Accept-Encoding': 'gzip, deflate, zstd', 'Accept': '*/*', 'Connection': 'keep-alive', 'Cookie': '_abck=490B291F7AB7EF640A7898E376655C12~-1~YAAQjU3bF0X96nCWAQAALEu3mg15N0NlPQZW/Njj59QF8XQI3ODDDN2CrcXmYSdoZR/WEBEAaeiUFR3JLrl9ahA58q+f0jXPlCzwv38rhGp4zLg8BbBTpGjo7mxyBmSpEyDD1d3jBu9Dg0N3cU07fhQ4TTFcdpp/pc8X/j+5hovvveONIXIy3BpArCToyJIa+x1vYprosWIf+/gibEEa7JKC6ertqETBidVaCRaaWd7pvdhDJh1sXoLxmnl9nCgD6b4p3SqUyMo+DW4/4V1cftvM1LQSRVJOMwb0kJ4GMrsbYsQjtf3XvZUlOT+fujCb2/4YBQF2NNRZ2pbuXg8auqZKXM9HxXhblr5A961m23GopuX1gBfSaRHkbPwKwB6P8O/YP8S1CrYWFv+rGsBKqDuWOPgAnSE=~-1~-1~-1; bm_sz=2B7C96479AD283CFCD3E52E33A769837~YAAQjU3bF0b96nCWAQAALEu3mhvwARiBHIqO2zB676GRiaUsAR1unSTINqLJBq7SSHyL0SA6rjy0sKCmch6WKmQLU+OHLpGT3P3Rgan91bz2TuQVHsrCX8WHEauqm0chnUVRPZcNq66E63kBbURUb+pflpaGuv+CIfOtXKyGNEVPClIji1OU6+h2DVYSV0QnH3hefCPlYOztxR14P4vxSgvf9Cs9d6Oy3jqs05+bs/E7gUiFMAhHiUGxnweMywKKYfUqQwgOwYyjkEDwiqL/YPzmcx9c19/9vx5lzurcwcf65qM/qZn2waZPZGoDDidIi3b+5n+FPdcCkjMezPL28JIjisTx7v9sVQ==~3420726~4340024'}\n",
            "None\n",
            "{'Content-Security-Policy': 'upgrade-insecure-requests', 'x-frame-options': 'SAMEORIGIN', 'Last-Modified': 'Sun, 04 May 2025 06:14:12 GMT', 'ETag': '\"2aa20-634494ac9d762-gzip\"', 'Accept-Ranges': 'bytes', 'Content-Type': 'text/html;charset=utf-8', 'X-Content-Type-Options': 'nosniff', 'Cache-Control': 'max-age=50', 'Expires': 'Sun, 04 May 2025 09:54:35 GMT', 'X-Akamai-Transformed': '0 - 0 -', 'Content-Encoding': 'gzip', 'Date': 'Sun, 04 May 2025 09:53:45 GMT', 'Content-Length': '30720', 'Connection': 'keep-alive', 'Vary': 'Accept-Encoding', 'Strict-Transport-Security': 'max-age=31536000'}\n",
            "Sun, 04 May 2025 09:53:45 GMT\n",
            "text/html;charset=utf-8\n",
            "utf-8\n",
            "\n",
            "<!DOCTYPE HTML>\n",
            "<html lang=\"en\">\n",
            "<head>\r\n",
            "    \r\n",
            "    \r\n",
            "    \r\n",
            "    \r\n",
            "    \r\n",
            "    \r\n",
            "    \r\n",
            "      \r\n",
            "    \r\n",
            "  \n"
          ]
        }
      ],
      "source": [
        "import requests\n",
        "url='https://www.ibm.com/'\n",
        "r= requests.get(url)\n",
        "print(r.status_code)\n",
        "print(r.request.headers)\n",
        "print(r.request.body)\n",
        "header=r.headers\n",
        "print(header)\n",
        "print(header['date'])\n",
        "print(header['Content-Type'])\n",
        "print(r.encoding)\n",
        "print(r.text[0:100])"
      ]
    },
    {
      "cell_type": "code",
      "source": [
        "#Query String for GET\n",
        "url_get='http://httpbin.org/get'\n",
        "payload={\"name\":\"Joseph\",\"ID\":\"123\",\"no.\":\"99\"}\n",
        "r=requests.get(url_get,params=payload)\n",
        "print(r.url)\n",
        "print(r.status_code)\n",
        "print(r.request.headers)\n",
        "print(r.request.body)\n",
        "print(r.text)\n",
        "print(r.json())\n",
        "print(r.json()['args'])"
      ],
      "metadata": {
        "colab": {
          "base_uri": "https://localhost:8080/"
        },
        "id": "fnfMo6rhgIfB",
        "outputId": "4934b5e5-665e-4226-de9b-ae60e8d3c791"
      },
      "execution_count": null,
      "outputs": [
        {
          "output_type": "stream",
          "name": "stdout",
          "text": [
            "http://httpbin.org/get?name=Joseph&ID=123&no.=99\n",
            "200\n",
            "{'User-Agent': 'python-requests/2.32.3', 'Accept-Encoding': 'gzip, deflate, zstd', 'Accept': '*/*', 'Connection': 'keep-alive'}\n",
            "None\n",
            "{\n",
            "  \"args\": {\n",
            "    \"ID\": \"123\", \n",
            "    \"name\": \"Joseph\", \n",
            "    \"no.\": \"99\"\n",
            "  }, \n",
            "  \"headers\": {\n",
            "    \"Accept\": \"*/*\", \n",
            "    \"Accept-Encoding\": \"gzip, deflate, zstd\", \n",
            "    \"Host\": \"httpbin.org\", \n",
            "    \"User-Agent\": \"python-requests/2.32.3\", \n",
            "    \"X-Amzn-Trace-Id\": \"Root=1-6817392c-3a35f99d59bb655f21b180a4\"\n",
            "  }, \n",
            "  \"origin\": \"34.53.39.252\", \n",
            "  \"url\": \"http://httpbin.org/get?name=Joseph&ID=123&no.=99\"\n",
            "}\n",
            "\n",
            "{'args': {'ID': '123', 'name': 'Joseph', 'no.': '99'}, 'headers': {'Accept': '*/*', 'Accept-Encoding': 'gzip, deflate, zstd', 'Host': 'httpbin.org', 'User-Agent': 'python-requests/2.32.3', 'X-Amzn-Trace-Id': 'Root=1-6817392c-3a35f99d59bb655f21b180a4'}, 'origin': '34.53.39.252', 'url': 'http://httpbin.org/get?name=Joseph&ID=123&no.=99'}\n",
            "{'ID': '123', 'name': 'Joseph', 'no.': '99'}\n"
          ]
        }
      ]
    },
    {
      "cell_type": "code",
      "source": [
        "url_post=\"http://httpbin.org/post\"\n",
        "payload={\"name\":\"Joseph\",\"ID\":\"123\",\"no.\":\"99\"}\n",
        "r_post=requests.post(url_post,data=payload)\n",
        "print(\"POST request URl:\",r_post.url)\n",
        "print(\"GET request URl:\",r.url)\n",
        "print(\"POST request body:\",r_post.request.body)\n",
        "print(\"GET request body:\",r.request.body)\n",
        "print(\"Post response:\",r_post.text)\n",
        "print(\"Get response:\",r.text)\n",
        "print(\"Post json response:\",r_post.json()['form'])\n",
        "print(\"Get json response:\",r.json())"
      ],
      "metadata": {
        "id": "QCsTIH8djd0z",
        "colab": {
          "base_uri": "https://localhost:8080/"
        },
        "outputId": "73070ef6-9b3a-43e0-ba22-2e2cd4ac358c"
      },
      "execution_count": null,
      "outputs": [
        {
          "output_type": "stream",
          "name": "stdout",
          "text": [
            "POST request URl: http://httpbin.org/post\n",
            "GET request URl: http://httpbin.org/get?name=Joseph&ID=123&no.=99\n",
            "POST request body: name=Joseph&ID=123&no.=99\n",
            "GET request body: None\n",
            "Post response: {\n",
            "  \"args\": {}, \n",
            "  \"data\": \"\", \n",
            "  \"files\": {}, \n",
            "  \"form\": {\n",
            "    \"ID\": \"123\", \n",
            "    \"name\": \"Joseph\", \n",
            "    \"no.\": \"99\"\n",
            "  }, \n",
            "  \"headers\": {\n",
            "    \"Accept\": \"*/*\", \n",
            "    \"Accept-Encoding\": \"gzip, deflate, zstd\", \n",
            "    \"Content-Length\": \"25\", \n",
            "    \"Content-Type\": \"application/x-www-form-urlencoded\", \n",
            "    \"Host\": \"httpbin.org\", \n",
            "    \"User-Agent\": \"python-requests/2.32.3\", \n",
            "    \"X-Amzn-Trace-Id\": \"Root=1-681739ef-259c8a262a68ade868eae1f5\"\n",
            "  }, \n",
            "  \"json\": null, \n",
            "  \"origin\": \"34.53.39.252\", \n",
            "  \"url\": \"http://httpbin.org/post\"\n",
            "}\n",
            "\n",
            "Get response: {\n",
            "  \"args\": {\n",
            "    \"ID\": \"123\", \n",
            "    \"name\": \"Joseph\", \n",
            "    \"no.\": \"99\"\n",
            "  }, \n",
            "  \"headers\": {\n",
            "    \"Accept\": \"*/*\", \n",
            "    \"Accept-Encoding\": \"gzip, deflate, zstd\", \n",
            "    \"Host\": \"httpbin.org\", \n",
            "    \"User-Agent\": \"python-requests/2.32.3\", \n",
            "    \"X-Amzn-Trace-Id\": \"Root=1-6817392c-3a35f99d59bb655f21b180a4\"\n",
            "  }, \n",
            "  \"origin\": \"34.53.39.252\", \n",
            "  \"url\": \"http://httpbin.org/get?name=Joseph&ID=123&no.=99\"\n",
            "}\n",
            "\n",
            "Post json response: {'ID': '123', 'name': 'Joseph', 'no.': '99'}\n",
            "Get json response: {'args': {'ID': '123', 'name': 'Joseph', 'no.': '99'}, 'headers': {'Accept': '*/*', 'Accept-Encoding': 'gzip, deflate, zstd', 'Host': 'httpbin.org', 'User-Agent': 'python-requests/2.32.3', 'X-Amzn-Trace-Id': 'Root=1-6817392c-3a35f99d59bb655f21b180a4'}, 'origin': '34.53.39.252', 'url': 'http://httpbin.org/get?name=Joseph&ID=123&no.=99'}\n"
          ]
        }
      ]
    }
  ]
}